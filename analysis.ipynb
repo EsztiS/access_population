{
 "cells": [
  {
   "cell_type": "markdown",
   "metadata": {},
   "source": [
    "Task: Estimate the number of Nigerians that don’t have access to grid power.\n",
    "\n",
    "Citations:\n",
    "[Exploring raster and vector geographic data with rasterio and geopandas by  ELGUILLE](http://www.guilles.website/2018/06/12/tutorial-exploring-raster-and-vector-geographic-data-with-rasterio-and-geopandas/)"
   ]
  },
  {
   "cell_type": "code",
   "execution_count": 1,
   "metadata": {},
   "outputs": [],
   "source": [
    "# Import necessary packages\n",
    "import pandas as pd\n",
    "import geopandas as gpd\n",
    "import gdal\n",
    "import seaborn as sns\n",
    "import rasterio\n",
    "from rasterio import mask\n",
    "import matplotlib.pyplot as plt\n",
    "import numpy as np\n",
    "import scipy.ndimage as ndi\n",
    "%matplotlib inline"
   ]
  },
  {
   "cell_type": "code",
   "execution_count": 2,
   "metadata": {},
   "outputs": [],
   "source": [
    "# Read in grid data\n",
    "grid = gpd.read_file(\"data/nigeria_at_03-08-2018.geojson\")"
   ]
  },
  {
   "cell_type": "code",
   "execution_count": 3,
   "metadata": {},
   "outputs": [
    {
     "data": {
      "text/plain": [
       "<matplotlib.axes._subplots.AxesSubplot at 0x7f8024f4dda0>"
      ]
     },
     "execution_count": 3,
     "metadata": {},
     "output_type": "execute_result"
    },
    {
     "data": {
      "image/png": "[encoded data removed]",
      "text/plain": [
       "<Figure size 432x288 with 1 Axes>"
      ]
     },
     "metadata": {
      "needs_background": "light"
     },
     "output_type": "display_data"
    }
   ],
   "source": [
    "# Visualize what is in the grid data\n",
    "grid.plot()"
   ]
  },
  {
   "cell_type": "code",
   "execution_count": 4,
   "metadata": {},
   "outputs": [],
   "source": [
    "# Read in the Nigerian population data from CEISIN.\n",
    "wpgt_file = \"data/hrsl_nga_v1/hrsl_nga_pop.tif\"\n",
    "wpgt_r = rasterio.open(wpgt_file)\n",
    "wpgt = wpgt_r.read()"
   ]
  },
  {
   "cell_type": "code",
   "execution_count": 5,
   "metadata": {},
   "outputs": [],
   "source": [
    "# Make sure all pixel values are 0 or above (negative population doesn't make sense)\n",
    "wpgt[wpgt<0] = 0"
   ]
  },
  {
   "cell_type": "code",
   "execution_count": 6,
   "metadata": {},
   "outputs": [],
   "source": [
    "# Rasterize the geojson grid data in order to compare to the population data in raster form.\n",
    "rasterizado = rasterio.features.rasterize(\n",
    "    [(x.geometry, 1) for i, x in grid.iterrows()],\n",
    "    out_shape=wpgt_r.shape,\n",
    "    transform=wpgt_r.transform,\n",
    "    fill=0,\n",
    "    all_touched=True,\n",
    "    dtype=rasterio.uint8, )"
   ]
  },
  {
   "cell_type": "code",
   "execution_count": 7,
   "metadata": {},
   "outputs": [],
   "source": [
    "# Write the rasterized map to a file, using the profile from the\n",
    "# Nigerian population raster file to keep format in sync.\n",
    "profile = wpgt_r.profile\n",
    "profile.update(\n",
    "    dtype=rasterio.uint8,\n",
    "    count=1,\n",
    "    compress='lzw', \n",
    "    nodata=0)\n",
    "rasterizado[rasterizado < 1] = 0\n",
    "with rasterio.open(\"data/hrsl_nga_v1/hrsl_nga_pop_100x100m.tif\", 'w', **profile) as out:\n",
    "    out.write_band(1, rasterizado)"
   ]
  },
  {
   "cell_type": "code",
   "execution_count": 8,
   "metadata": {},
   "outputs": [],
   "source": [
    "# Read the rasterized map back in. Wrote to file and\n",
    "# loaded because cannot do in memory.\n",
    "grid_raster = rasterio.open(\"data/hrsl_nga_v1/hrsl_nga_pop_100x100m.tif\", 'r')\n",
    "grid_raster_r = grid_raster.read()"
   ]
  },
  {
   "cell_type": "code",
   "execution_count": 9,
   "metadata": {},
   "outputs": [],
   "source": [
    "# Create a mask from the grid raster file to use\n",
    "# to select pixels in the population file to count.\n",
    "# Selecting an area of about 200-300m from grid.\n",
    "grid_filtered = ndi.maximum_filter(grid_raster_r, size = 5 )"
   ]
  },
  {
   "cell_type": "code",
   "execution_count": 10,
   "metadata": {},
   "outputs": [],
   "source": [
    "# Use the mask to get the population that lives at ~ 300m or less from a grid. \n",
    "# To get the populations of the cells with 1, multiply the \n",
    "# Nigerian pop band by the grid filtered band:\n",
    "grid_access = wpgt[0] * grid_filtered[0]"
   ]
  },
  {
   "cell_type": "code",
   "execution_count": null,
   "metadata": {},
   "outputs": [],
   "source": [
    "plt.rcParams['figure.figsize'] = 14, 14\n",
    "# Transform the data with the log10 function because it has a wide range\n",
    "# and cells with low population count become invisible without rescaling.\n",
    "plt.imshow(np.log10((np.fmax( grid_access+1, 1))), vmin = 0, interpolation=\"bilinear\")\n",
    "bar = plt.colorbar(fraction=0.03)"
   ]
  },
  {
   "cell_type": "code",
   "execution_count": null,
   "metadata": {},
   "outputs": [],
   "source": []
  }
 ],
 "metadata": {
  "kernelspec": {
   "display_name": "Python 3",
   "language": "python",
   "name": "python3"
  },
  "language_info": {
   "codemirror_mode": {
    "name": "ipython",
    "version": 3
   },
   "file_extension": ".py",
   "mimetype": "text/x-python",
   "name": "python",
   "nbconvert_exporter": "python",
   "pygments_lexer": "ipython3",
   "version": "3.6.7"
  }
 },
 "nbformat": 4,
 "nbformat_minor": 2
}
